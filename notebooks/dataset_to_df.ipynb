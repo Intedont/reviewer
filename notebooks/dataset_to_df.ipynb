{
 "cells": [
  {
   "cell_type": "code",
   "execution_count": 1,
   "id": "b42ab3cc",
   "metadata": {},
   "outputs": [],
   "source": [
    "import pandas as pd\n",
    "import os"
   ]
  },
  {
   "cell_type": "markdown",
   "id": "c3de45d8",
   "metadata": {},
   "source": [
    "# Читаем текст из файлов в датафрейм"
   ]
  },
  {
   "cell_type": "code",
   "execution_count": 2,
   "id": "5bdbde08",
   "metadata": {},
   "outputs": [],
   "source": [
    "df = pd.DataFrame()"
   ]
  },
  {
   "cell_type": "code",
   "execution_count": 28,
   "id": "d00aa0fc",
   "metadata": {},
   "outputs": [],
   "source": [
    "directory = 'C:\\\\Users\\\\murad\\\\Desktop\\\\projects\\\\aclImdb_v1\\\\aclImdb\\\\train\\\\neg'\n",
    "\n",
    "for filename in os.listdir(directory):\n",
    "    f = os.path.join(directory, filename)\n",
    "    file = open(f, 'r', encoding='utf-8')\n",
    "    df = pd.concat([df, pd.DataFrame([{'review': file.read(), 'score': filename.split('_')[1].split('.')[0]}])])\n",
    "    file.close()"
   ]
  },
  {
   "cell_type": "code",
   "execution_count": 29,
   "id": "0db3a721",
   "metadata": {},
   "outputs": [
    {
     "data": {
      "text/html": [
       "<div>\n",
       "<style scoped>\n",
       "    .dataframe tbody tr th:only-of-type {\n",
       "        vertical-align: middle;\n",
       "    }\n",
       "\n",
       "    .dataframe tbody tr th {\n",
       "        vertical-align: top;\n",
       "    }\n",
       "\n",
       "    .dataframe thead th {\n",
       "        text-align: right;\n",
       "    }\n",
       "</style>\n",
       "<table border=\"1\" class=\"dataframe\">\n",
       "  <thead>\n",
       "    <tr style=\"text-align: right;\">\n",
       "      <th></th>\n",
       "      <th>review</th>\n",
       "      <th>score</th>\n",
       "    </tr>\n",
       "  </thead>\n",
       "  <tbody>\n",
       "    <tr>\n",
       "      <th>0</th>\n",
       "      <td>story man unnatural feelings pig starts openin...</td>\n",
       "      <td>3</td>\n",
       "    </tr>\n",
       "    <tr>\n",
       "      <th>1</th>\n",
       "      <td>airport 77 starts brand new luxury 747 plane l...</td>\n",
       "      <td>4</td>\n",
       "    </tr>\n",
       "    <tr>\n",
       "      <th>2</th>\n",
       "      <td>film lacked something couldnt put finger first...</td>\n",
       "      <td>4</td>\n",
       "    </tr>\n",
       "    <tr>\n",
       "      <th>3</th>\n",
       "      <td>sorry everyone know supposed art film wow hand...</td>\n",
       "      <td>1</td>\n",
       "    </tr>\n",
       "    <tr>\n",
       "      <th>4</th>\n",
       "      <td>little parents took along theater see interior...</td>\n",
       "      <td>1</td>\n",
       "    </tr>\n",
       "    <tr>\n",
       "      <th>...</th>\n",
       "      <td>...</td>\n",
       "      <td>...</td>\n",
       "    </tr>\n",
       "    <tr>\n",
       "      <th>0</th>\n",
       "      <td>Towards the end of the movie, I felt it was to...</td>\n",
       "      <td>4</td>\n",
       "    </tr>\n",
       "    <tr>\n",
       "      <th>0</th>\n",
       "      <td>This is the kind of movie that my enemies cont...</td>\n",
       "      <td>3</td>\n",
       "    </tr>\n",
       "    <tr>\n",
       "      <th>0</th>\n",
       "      <td>I saw 'Descent' last night at the Stockholm Fi...</td>\n",
       "      <td>3</td>\n",
       "    </tr>\n",
       "    <tr>\n",
       "      <th>0</th>\n",
       "      <td>Some films that you pick up for a pound turn o...</td>\n",
       "      <td>1</td>\n",
       "    </tr>\n",
       "    <tr>\n",
       "      <th>0</th>\n",
       "      <td>This is one of the dumbest films, I've ever se...</td>\n",
       "      <td>1</td>\n",
       "    </tr>\n",
       "  </tbody>\n",
       "</table>\n",
       "<p>37500 rows × 2 columns</p>\n",
       "</div>"
      ],
      "text/plain": [
       "                                               review score\n",
       "0   story man unnatural feelings pig starts openin...     3\n",
       "1   airport 77 starts brand new luxury 747 plane l...     4\n",
       "2   film lacked something couldnt put finger first...     4\n",
       "3   sorry everyone know supposed art film wow hand...     1\n",
       "4   little parents took along theater see interior...     1\n",
       "..                                                ...   ...\n",
       "0   Towards the end of the movie, I felt it was to...     4\n",
       "0   This is the kind of movie that my enemies cont...     3\n",
       "0   I saw 'Descent' last night at the Stockholm Fi...     3\n",
       "0   Some films that you pick up for a pound turn o...     1\n",
       "0   This is one of the dumbest films, I've ever se...     1\n",
       "\n",
       "[37500 rows x 2 columns]"
      ]
     },
     "execution_count": 29,
     "metadata": {},
     "output_type": "execute_result"
    }
   ],
   "source": [
    "df"
   ]
  },
  {
   "cell_type": "code",
   "execution_count": 22,
   "id": "a0fa0ba7",
   "metadata": {},
   "outputs": [],
   "source": [
    "directory = 'C:\\\\Users\\\\murad\\\\Desktop\\\\projects\\\\aclImdb_v1\\\\aclImdb\\\\train\\\\pos'\n",
    "for filename in os.listdir(directory):\n",
    "    f = os.path.join(directory, filename)\n",
    "    file = open(f, 'r', encoding='utf-8')\n",
    "    df = pd.concat([df, pd.DataFrame([{'review': file.read(), 'score': filename.split('_')[1].split('.')[0]}])])\n",
    "    file.close()"
   ]
  },
  {
   "cell_type": "code",
   "execution_count": 23,
   "id": "b03b731c",
   "metadata": {},
   "outputs": [
    {
     "data": {
      "text/html": [
       "<div>\n",
       "<style scoped>\n",
       "    .dataframe tbody tr th:only-of-type {\n",
       "        vertical-align: middle;\n",
       "    }\n",
       "\n",
       "    .dataframe tbody tr th {\n",
       "        vertical-align: top;\n",
       "    }\n",
       "\n",
       "    .dataframe thead th {\n",
       "        text-align: right;\n",
       "    }\n",
       "</style>\n",
       "<table border=\"1\" class=\"dataframe\">\n",
       "  <thead>\n",
       "    <tr style=\"text-align: right;\">\n",
       "      <th></th>\n",
       "      <th>review</th>\n",
       "      <th>score</th>\n",
       "    </tr>\n",
       "  </thead>\n",
       "  <tbody>\n",
       "    <tr>\n",
       "      <th>0</th>\n",
       "      <td>Once again Mr. Costner has dragged out a movie...</td>\n",
       "      <td>2</td>\n",
       "    </tr>\n",
       "    <tr>\n",
       "      <th>0</th>\n",
       "      <td>This is an example of why the majority of acti...</td>\n",
       "      <td>4</td>\n",
       "    </tr>\n",
       "    <tr>\n",
       "      <th>0</th>\n",
       "      <td>First of all I hate those moronic rappers, who...</td>\n",
       "      <td>1</td>\n",
       "    </tr>\n",
       "    <tr>\n",
       "      <th>0</th>\n",
       "      <td>Not even the Beatles could write songs everyon...</td>\n",
       "      <td>3</td>\n",
       "    </tr>\n",
       "    <tr>\n",
       "      <th>0</th>\n",
       "      <td>Brass pictures (movies is not a fitting word f...</td>\n",
       "      <td>3</td>\n",
       "    </tr>\n",
       "    <tr>\n",
       "      <th>...</th>\n",
       "      <td>...</td>\n",
       "      <td>...</td>\n",
       "    </tr>\n",
       "    <tr>\n",
       "      <th>0</th>\n",
       "      <td>I was extraordinarily impressed by this film. ...</td>\n",
       "      <td>8</td>\n",
       "    </tr>\n",
       "    <tr>\n",
       "      <th>0</th>\n",
       "      <td>Although I'm not a golf fan, I attended a snea...</td>\n",
       "      <td>10</td>\n",
       "    </tr>\n",
       "    <tr>\n",
       "      <th>0</th>\n",
       "      <td>From the start of \"The Edge Of Love\", the view...</td>\n",
       "      <td>8</td>\n",
       "    </tr>\n",
       "    <tr>\n",
       "      <th>0</th>\n",
       "      <td>This movie, with all its complexity and subtle...</td>\n",
       "      <td>10</td>\n",
       "    </tr>\n",
       "    <tr>\n",
       "      <th>0</th>\n",
       "      <td>I've seen this story before but my kids haven'...</td>\n",
       "      <td>7</td>\n",
       "    </tr>\n",
       "  </tbody>\n",
       "</table>\n",
       "<p>25000 rows × 2 columns</p>\n",
       "</div>"
      ],
      "text/plain": [
       "                                               review score\n",
       "0   Once again Mr. Costner has dragged out a movie...     2\n",
       "0   This is an example of why the majority of acti...     4\n",
       "0   First of all I hate those moronic rappers, who...     1\n",
       "0   Not even the Beatles could write songs everyon...     3\n",
       "0   Brass pictures (movies is not a fitting word f...     3\n",
       "..                                                ...   ...\n",
       "0   I was extraordinarily impressed by this film. ...     8\n",
       "0   Although I'm not a golf fan, I attended a snea...    10\n",
       "0   From the start of \"The Edge Of Love\", the view...     8\n",
       "0   This movie, with all its complexity and subtle...    10\n",
       "0   I've seen this story before but my kids haven'...     7\n",
       "\n",
       "[25000 rows x 2 columns]"
      ]
     },
     "execution_count": 23,
     "metadata": {},
     "output_type": "execute_result"
    }
   ],
   "source": [
    "df"
   ]
  },
  {
   "cell_type": "code",
   "execution_count": 24,
   "id": "cb4287bd",
   "metadata": {},
   "outputs": [],
   "source": [
    "df.to_csv('C:\\\\Users\\\\murad\\\\Desktop\\\\projects\\\\aclImdb_v1\\\\reviews.csv', index=False)"
   ]
  },
  {
   "cell_type": "markdown",
   "id": "6a2f73e7",
   "metadata": {},
   "source": [
    "# Очищаем датасет"
   ]
  },
  {
   "cell_type": "code",
   "execution_count": 39,
   "id": "12dd53dc",
   "metadata": {},
   "outputs": [],
   "source": [
    "df = pd.read_csv('C:\\\\Users\\\\murad\\\\Desktop\\\\projects\\\\aclImdb_v1\\\\test_reviews.csv')"
   ]
  },
  {
   "cell_type": "code",
   "execution_count": 40,
   "id": "96ad486d",
   "metadata": {},
   "outputs": [
    {
     "data": {
      "text/html": [
       "<div>\n",
       "<style scoped>\n",
       "    .dataframe tbody tr th:only-of-type {\n",
       "        vertical-align: middle;\n",
       "    }\n",
       "\n",
       "    .dataframe tbody tr th {\n",
       "        vertical-align: top;\n",
       "    }\n",
       "\n",
       "    .dataframe thead th {\n",
       "        text-align: right;\n",
       "    }\n",
       "</style>\n",
       "<table border=\"1\" class=\"dataframe\">\n",
       "  <thead>\n",
       "    <tr style=\"text-align: right;\">\n",
       "      <th></th>\n",
       "      <th>review</th>\n",
       "      <th>score</th>\n",
       "    </tr>\n",
       "  </thead>\n",
       "  <tbody>\n",
       "    <tr>\n",
       "      <th>0</th>\n",
       "      <td>Once again Mr. Costner has dragged out a movie...</td>\n",
       "      <td>2</td>\n",
       "    </tr>\n",
       "    <tr>\n",
       "      <th>1</th>\n",
       "      <td>This is an example of why the majority of acti...</td>\n",
       "      <td>4</td>\n",
       "    </tr>\n",
       "    <tr>\n",
       "      <th>2</th>\n",
       "      <td>First of all I hate those moronic rappers, who...</td>\n",
       "      <td>1</td>\n",
       "    </tr>\n",
       "    <tr>\n",
       "      <th>3</th>\n",
       "      <td>Not even the Beatles could write songs everyon...</td>\n",
       "      <td>3</td>\n",
       "    </tr>\n",
       "    <tr>\n",
       "      <th>4</th>\n",
       "      <td>Brass pictures (movies is not a fitting word f...</td>\n",
       "      <td>3</td>\n",
       "    </tr>\n",
       "    <tr>\n",
       "      <th>...</th>\n",
       "      <td>...</td>\n",
       "      <td>...</td>\n",
       "    </tr>\n",
       "    <tr>\n",
       "      <th>24995</th>\n",
       "      <td>I was extraordinarily impressed by this film. ...</td>\n",
       "      <td>8</td>\n",
       "    </tr>\n",
       "    <tr>\n",
       "      <th>24996</th>\n",
       "      <td>Although I'm not a golf fan, I attended a snea...</td>\n",
       "      <td>10</td>\n",
       "    </tr>\n",
       "    <tr>\n",
       "      <th>24997</th>\n",
       "      <td>From the start of \"The Edge Of Love\", the view...</td>\n",
       "      <td>8</td>\n",
       "    </tr>\n",
       "    <tr>\n",
       "      <th>24998</th>\n",
       "      <td>This movie, with all its complexity and subtle...</td>\n",
       "      <td>10</td>\n",
       "    </tr>\n",
       "    <tr>\n",
       "      <th>24999</th>\n",
       "      <td>I've seen this story before but my kids haven'...</td>\n",
       "      <td>7</td>\n",
       "    </tr>\n",
       "  </tbody>\n",
       "</table>\n",
       "<p>25000 rows × 2 columns</p>\n",
       "</div>"
      ],
      "text/plain": [
       "                                                  review  score\n",
       "0      Once again Mr. Costner has dragged out a movie...      2\n",
       "1      This is an example of why the majority of acti...      4\n",
       "2      First of all I hate those moronic rappers, who...      1\n",
       "3      Not even the Beatles could write songs everyon...      3\n",
       "4      Brass pictures (movies is not a fitting word f...      3\n",
       "...                                                  ...    ...\n",
       "24995  I was extraordinarily impressed by this film. ...      8\n",
       "24996  Although I'm not a golf fan, I attended a snea...     10\n",
       "24997  From the start of \"The Edge Of Love\", the view...      8\n",
       "24998  This movie, with all its complexity and subtle...     10\n",
       "24999  I've seen this story before but my kids haven'...      7\n",
       "\n",
       "[25000 rows x 2 columns]"
      ]
     },
     "execution_count": 40,
     "metadata": {},
     "output_type": "execute_result"
    }
   ],
   "source": [
    "df"
   ]
  },
  {
   "cell_type": "code",
   "execution_count": 30,
   "id": "478edf4d",
   "metadata": {},
   "outputs": [
    {
     "name": "stderr",
     "output_type": "stream",
     "text": [
      "[nltk_data] Downloading package stopwords to\n",
      "[nltk_data]     C:\\Users\\murad\\AppData\\Roaming\\nltk_data...\n",
      "[nltk_data]   Package stopwords is already up-to-date!\n"
     ]
    },
    {
     "data": {
      "text/plain": [
       "True"
      ]
     },
     "execution_count": 30,
     "metadata": {},
     "output_type": "execute_result"
    }
   ],
   "source": [
    "import nltk\n",
    "from nltk.corpus import stopwords\n",
    "import string\n",
    "\n",
    "nltk.download('stopwords')"
   ]
  },
  {
   "cell_type": "code",
   "execution_count": 41,
   "id": "84c6e3fd",
   "metadata": {},
   "outputs": [],
   "source": [
    "def remove_punctuation(text):\n",
    "    '''Функция получает на вход предложение, удаляет пунктуацию и возвращает обратно'''\n",
    "    no_punct=[words for words in text if words not in string.punctuation]\n",
    "    words_wo_punct=''.join(no_punct)\n",
    "    return words_wo_punct\n",
    "\n",
    "def remove_stopwords(text):\n",
    "    '''Функция получает на вход предложение, удаляет стоп слова и возвращает его обратно'''\n",
    "    stopword = stopwords.words('english')\n",
    "    words = text.split()\n",
    "    ans = ''\n",
    "    for word in words:\n",
    "        if word not in stopword:\n",
    "            ans += word + ' '\n",
    "    \n",
    "    return ans\n",
    "\n",
    "def remove_br(text):\n",
    "    return(text.replace('<br />', ' '))"
   ]
  },
  {
   "cell_type": "markdown",
   "id": "7142925d",
   "metadata": {},
   "source": [
    "Удаляем br /, пунктуацию, приводим к нижнему регистру, удаляем стоп слова"
   ]
  },
  {
   "cell_type": "code",
   "execution_count": 42,
   "id": "a02ac64e",
   "metadata": {},
   "outputs": [],
   "source": [
    "df['review']=df['review'].apply(lambda x: remove_br(x))"
   ]
  },
  {
   "cell_type": "code",
   "execution_count": 43,
   "id": "d3999a94",
   "metadata": {},
   "outputs": [],
   "source": [
    "df['review']=df['review'].apply(lambda x: remove_punctuation(x))"
   ]
  },
  {
   "cell_type": "code",
   "execution_count": 44,
   "id": "bca214e4",
   "metadata": {},
   "outputs": [],
   "source": [
    "df['review']=df['review'].apply(lambda x: x.lower()) "
   ]
  },
  {
   "cell_type": "code",
   "execution_count": 45,
   "id": "975c1528",
   "metadata": {},
   "outputs": [],
   "source": [
    "df['review'] = df['review'].apply(lambda x: remove_stopwords(x))\n"
   ]
  },
  {
   "cell_type": "code",
   "execution_count": 49,
   "id": "7e00b6de",
   "metadata": {},
   "outputs": [
    {
     "data": {
      "text/html": [
       "<div>\n",
       "<style scoped>\n",
       "    .dataframe tbody tr th:only-of-type {\n",
       "        vertical-align: middle;\n",
       "    }\n",
       "\n",
       "    .dataframe tbody tr th {\n",
       "        vertical-align: top;\n",
       "    }\n",
       "\n",
       "    .dataframe thead th {\n",
       "        text-align: right;\n",
       "    }\n",
       "</style>\n",
       "<table border=\"1\" class=\"dataframe\">\n",
       "  <thead>\n",
       "    <tr style=\"text-align: right;\">\n",
       "      <th></th>\n",
       "      <th>review</th>\n",
       "      <th>score</th>\n",
       "    </tr>\n",
       "  </thead>\n",
       "  <tbody>\n",
       "    <tr>\n",
       "      <th>0</th>\n",
       "      <td>mr costner dragged movie far longer necessary ...</td>\n",
       "      <td>2</td>\n",
       "    </tr>\n",
       "    <tr>\n",
       "      <th>1</th>\n",
       "      <td>example majority action films generic boring t...</td>\n",
       "      <td>4</td>\n",
       "    </tr>\n",
       "    <tr>\n",
       "      <th>2</th>\n",
       "      <td>first hate moronic rappers couldnt act gun pre...</td>\n",
       "      <td>1</td>\n",
       "    </tr>\n",
       "    <tr>\n",
       "      <th>3</th>\n",
       "      <td>even beatles could write songs everyone liked ...</td>\n",
       "      <td>3</td>\n",
       "    </tr>\n",
       "    <tr>\n",
       "      <th>4</th>\n",
       "      <td>brass pictures movies fitting word really some...</td>\n",
       "      <td>3</td>\n",
       "    </tr>\n",
       "    <tr>\n",
       "      <th>...</th>\n",
       "      <td>...</td>\n",
       "      <td>...</td>\n",
       "    </tr>\n",
       "    <tr>\n",
       "      <th>24995</th>\n",
       "      <td>extraordinarily impressed film one best sports...</td>\n",
       "      <td>8</td>\n",
       "    </tr>\n",
       "    <tr>\n",
       "      <th>24996</th>\n",
       "      <td>although im golf fan attended sneak preview mo...</td>\n",
       "      <td>10</td>\n",
       "    </tr>\n",
       "    <tr>\n",
       "      <th>24997</th>\n",
       "      <td>start edge love viewer transported striking wo...</td>\n",
       "      <td>8</td>\n",
       "    </tr>\n",
       "    <tr>\n",
       "      <th>24998</th>\n",
       "      <td>movie complexity subtlety makes one thoughtpro...</td>\n",
       "      <td>10</td>\n",
       "    </tr>\n",
       "    <tr>\n",
       "      <th>24999</th>\n",
       "      <td>ive seen story kids havent boy troubled past j...</td>\n",
       "      <td>7</td>\n",
       "    </tr>\n",
       "  </tbody>\n",
       "</table>\n",
       "<p>25000 rows × 2 columns</p>\n",
       "</div>"
      ],
      "text/plain": [
       "                                                  review  score\n",
       "0      mr costner dragged movie far longer necessary ...      2\n",
       "1      example majority action films generic boring t...      4\n",
       "2      first hate moronic rappers couldnt act gun pre...      1\n",
       "3      even beatles could write songs everyone liked ...      3\n",
       "4      brass pictures movies fitting word really some...      3\n",
       "...                                                  ...    ...\n",
       "24995  extraordinarily impressed film one best sports...      8\n",
       "24996  although im golf fan attended sneak preview mo...     10\n",
       "24997  start edge love viewer transported striking wo...      8\n",
       "24998  movie complexity subtlety makes one thoughtpro...     10\n",
       "24999  ive seen story kids havent boy troubled past j...      7\n",
       "\n",
       "[25000 rows x 2 columns]"
      ]
     },
     "execution_count": 49,
     "metadata": {},
     "output_type": "execute_result"
    }
   ],
   "source": [
    "df"
   ]
  },
  {
   "cell_type": "code",
   "execution_count": 37,
   "id": "6f96fd12",
   "metadata": {},
   "outputs": [
    {
     "data": {
      "text/plain": [
       "'watched movie starz let go things thought could improved acting writing directing special effects camera crew sound lighting also seemed though writers idea anything movie apparently back 2007 dollar stronger could buy super advanced stealth bomber could go completely invisible 75 million nowadays things cost 3 billion cant go invisible apparently fly us middle east hour completely random lesbian scene didnt mind seemed like lame attempt get guys see camera would randomly zoom actors skip random scenes oh yeah since steven segal movie predictable hell rank right snakes plane '"
      ]
     },
     "execution_count": 37,
     "metadata": {},
     "output_type": "execute_result"
    }
   ],
   "source": [
    "df.iloc[150]['review']"
   ]
  },
  {
   "cell_type": "code",
   "execution_count": 50,
   "id": "ce3f442e",
   "metadata": {},
   "outputs": [],
   "source": [
    "df.to_csv('C:\\\\Users\\\\murad\\\\Desktop\\\\projects\\\\aclImdb_v1\\\\test_reviews_proc.csv', index=False)"
   ]
  },
  {
   "cell_type": "code",
   "execution_count": null,
   "id": "1d3c6af8",
   "metadata": {},
   "outputs": [],
   "source": []
  }
 ],
 "metadata": {
  "kernelspec": {
   "display_name": "Python 3 (ipykernel)",
   "language": "python",
   "name": "python3"
  },
  "language_info": {
   "codemirror_mode": {
    "name": "ipython",
    "version": 3
   },
   "file_extension": ".py",
   "mimetype": "text/x-python",
   "name": "python",
   "nbconvert_exporter": "python",
   "pygments_lexer": "ipython3",
   "version": "3.10.10"
  }
 },
 "nbformat": 4,
 "nbformat_minor": 5
}
